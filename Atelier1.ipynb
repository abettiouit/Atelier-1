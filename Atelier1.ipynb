{
  "nbformat": 4,
  "nbformat_minor": 0,
  "metadata": {
    "colab": {
      "provenance": []
    },
    "kernelspec": {
      "name": "python3",
      "display_name": "Python 3"
    },
    "language_info": {
      "name": "python"
    }
  },
  "cells": [
    {
      "cell_type": "markdown",
      "source": [
        "**AHMED BETTIOUIT**\n",
        "\n",
        "Module :  Langage de programmation\n",
        "\n",
        "\n",
        "Atelier 1"
      ],
      "metadata": {
        "id": "InOiC3V6jCoP"
      }
    },
    {
      "cell_type": "markdown",
      "source": [
        "1) Ecrire une fonction qui renvoie la puissance d’un nombre $X^n$"
      ],
      "metadata": {
        "id": "09AeG8GYl1kB"
      }
    },
    {
      "cell_type": "code",
      "source": [
        "def pui(x,n):\n",
        "  p=1\n",
        "  for i in range(n):\n",
        "    p=x**n\n",
        "    return p\n",
        "x= int(input(\"Saisir un Nombre :\"))\n",
        "n= int(input(\"Saisir un Nombre :\"))\n",
        "print(x,\"a la puissance de\",n,\"est:\",pui(x,n))"
      ],
      "metadata": {
        "colab": {
          "base_uri": "https://localhost:8080/"
        },
        "id": "DpnHl9T1jn0y",
        "outputId": "9fcc71e2-4993-4662-d1e3-ffe6e35a171c"
      },
      "execution_count": null,
      "outputs": [
        {
          "output_type": "stream",
          "name": "stdout",
          "text": [
            "Saisir un Nombre :3\n",
            "Saisir un Nombre :4\n",
            "3 a la puissance de 4 est: 81\n"
          ]
        }
      ]
    },
    {
      "cell_type": "markdown",
      "source": [
        "2)Ecrire une fonction python qui calcul la factorielle d’un nombre donné\n"
      ],
      "metadata": {
        "id": "z8vVLlWXlLgJ"
      }
    },
    {
      "cell_type": "code",
      "source": [
        "def fact(n):\n",
        "  f=1\n",
        "  for i in range(2,n+1):\n",
        "    f=f*i\n",
        "  return f\n",
        "  \n",
        "\n",
        "    \n",
        "n= int(input(\"Saisir un Nombre :\"))\n",
        "fact(n)\n"
      ],
      "metadata": {
        "colab": {
          "base_uri": "https://localhost:8080/"
        },
        "id": "aCHo7p1alggp",
        "outputId": "ed0b71e3-57d4-40da-c137-6695c01fe419"
      },
      "execution_count": null,
      "outputs": [
        {
          "name": "stdout",
          "output_type": "stream",
          "text": [
            "Saisir un Nombre :5\n"
          ]
        },
        {
          "output_type": "execute_result",
          "data": {
            "text/plain": [
              "120"
            ]
          },
          "metadata": {},
          "execution_count": 2
        }
      ]
    },
    {
      "cell_type": "markdown",
      "source": [
        "3) Ecrire une fonction en Python pour trouver la somme des séries 1! / 1 + 2! / 2 + 3! / 3 +\n",
        "4! / 4 + 5! / 5 en utilisant la fonction"
      ],
      "metadata": {
        "id": "B0k9GuPyrZVe"
      }
    },
    {
      "cell_type": "code",
      "source": [
        "def sumfac(n):\n",
        "  f=1\n",
        "  s=1\n",
        "  for i in range(2,n+1):\n",
        "    f=f*i\n",
        "    s=s+f/i\n",
        "  return s\n",
        "n= int(input(\"Saisir un Nombre :\"))\n",
        "print(\"la somme %d\"%(sumfac(n)))\n",
        "\n"
      ],
      "metadata": {
        "id": "h_RbrYFFrgDg",
        "colab": {
          "base_uri": "https://localhost:8080/"
        },
        "outputId": "3f1d29fd-4b47-44b1-d80a-f49e3822478c"
      },
      "execution_count": null,
      "outputs": [
        {
          "output_type": "stream",
          "name": "stdout",
          "text": [
            "Saisir un Nombre :5\n",
            "la somme 34\n"
          ]
        }
      ]
    },
    {
      "cell_type": "markdown",
      "source": [
        "4) Ecrire une fonction en Python pour convertir le nombre décimal en nombre binaire."
      ],
      "metadata": {
        "id": "OeUh_Y7NdiRj"
      }
    },
    {
      "cell_type": "code",
      "source": [
        "List=[]\n",
        "x=int(input(\"Entrer un nombre: \"))\n",
        "a=x\n",
        "while(x>0):\n",
        "  i=0\n",
        "  List.insert(i,x%2)\n",
        "  x=x//2\n",
        "  i+=1\n",
        "def binaire (x):\n",
        "\n",
        "  while(x>0):\n",
        "\n",
        "   i=0\n",
        "   List.insert(i,x%2)\n",
        "   x=x//2\n",
        "   i+=1\n",
        "   for i in range (len(List)):\n",
        "    \n",
        "\n",
        "    print(List[i],end=\"\")\n",
        "    return List\n",
        "print('le nombre binaire du nombre décimal %d est : '%a,end=\" \")\n",
        "for i in range (len(List)):     \n",
        "    print(List[i],end=\"\")\n",
        "binaire (x)"
      ],
      "metadata": {
        "id": "F2SJAC9Dep0p",
        "colab": {
          "base_uri": "https://localhost:8080/"
        },
        "outputId": "be6c92bb-d41e-444b-b86e-f1a284654abc"
      },
      "execution_count": 3,
      "outputs": [
        {
          "output_type": "stream",
          "name": "stdout",
          "text": [
            "Entrer un nombre: 12\n",
            "le nombre binaire du nombre décimal 12 est :  1100"
          ]
        }
      ]
    },
    {
      "cell_type": "markdown",
      "source": [
        "5) Ecrire une fonction en Python pour calculer la somme des nombres de 1 à n"
      ],
      "metadata": {
        "id": "oXROKclUeqRP"
      }
    },
    {
      "cell_type": "code",
      "source": [
        "def somme(n):\n",
        "  f=0\n",
        "  for i in range(1,n+1):\n",
        "    f=f+i\n",
        "  return f\n",
        "n= int(input(\"Saisir un Nombre :\"))\n",
        "print(\"la somme=\",somme(n))"
      ],
      "metadata": {
        "colab": {
          "base_uri": "https://localhost:8080/"
        },
        "id": "ru-DmhsWe0Jv",
        "outputId": "65a79c8a-f63c-4ed6-f8f5-43d6d99178aa"
      },
      "execution_count": null,
      "outputs": [
        {
          "output_type": "stream",
          "name": "stdout",
          "text": [
            "Saisir un Nombre :4\n",
            "la somme= 10\n"
          ]
        }
      ]
    },
    {
      "cell_type": "markdown",
      "source": [
        "6) Ecrire une fonction en Python pour compter les chiffres d'un nombre donné.\n"
      ],
      "metadata": {
        "id": "PBp__ceYfoeS"
      }
    },
    {
      "cell_type": "code",
      "source": [
        "def num(n):\n",
        "  nmbr=0\n",
        "  while n!=0:\n",
        "    n=n//10\n",
        "    nmbr=nmbr+1\n",
        "  return nmbr\n",
        "n= int(input(\"Saisir un Nombre :\"))\n",
        "print(num(n))\n",
        "\n"
      ],
      "metadata": {
        "id": "Ith9hAsofrcn"
      },
      "execution_count": null,
      "outputs": []
    },
    {
      "cell_type": "markdown",
      "source": [
        "7) Ecrire une fonction Python pour trouver la fréquence d’un caractère dans une chaîne."
      ],
      "metadata": {
        "id": "3Hb9iAVxgxxz"
      }
    },
    {
      "cell_type": "code",
      "source": [],
      "metadata": {
        "id": "Vn6dIwA2hD2Q"
      },
      "execution_count": null,
      "outputs": []
    },
    {
      "cell_type": "markdown",
      "source": [
        " 8) Ecrire une fonction qui cherche un élément dans une matrice puis renvoi sa position «\n",
        "i,j»"
      ],
      "metadata": {
        "id": "FCq5p_6KhEOD"
      }
    },
    {
      "cell_type": "code",
      "source": [],
      "metadata": {
        "id": "kiHFCcUUhJju"
      },
      "execution_count": null,
      "outputs": []
    },
    {
      "cell_type": "markdown",
      "source": [
        "9) Ecrire un programme python composé de plusieurs fonctions :\n",
        "\n",
        "\n",
        "*   Fonction qui envoi la valeur moyenne d’une liste;\n",
        "*   Fonction qui renvoi le min ou max selon le choix de l'utilisateur;\n",
        "*   Fonction qui renvoie le médian d ‘une liste;\n",
        "*   Fonction qui renvoi le mode d’une liste;\n",
        "*   Fonction qui calcul la variance."
      ],
      "metadata": {
        "id": "sIGw8lNvhJ9P"
      }
    },
    {
      "cell_type": "code",
      "source": [],
      "metadata": {
        "id": "lt54HagUhWsp"
      },
      "execution_count": null,
      "outputs": []
    }
  ]
}